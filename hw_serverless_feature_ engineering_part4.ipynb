{
 "cells": [
  {
   "cell_type": "code",
   "execution_count": 1,
   "metadata": {},
   "outputs": [],
   "source": [
    "#通用\n",
    "from tqdm.notebook import tqdm\n",
    "#数据处理\n",
    "import pandas as pd\n",
    "import numpy as np\n",
    "import matplotlib.pyplot as plt\n",
    "%matplotlib inline\n",
    "import seaborn as sns\n",
    "import time"
   ]
  },
  {
   "cell_type": "code",
   "execution_count": 21,
   "metadata": {},
   "outputs": [],
   "source": [
    "#新增特征：是否一直拥塞。\n",
    "#队列内JOB数量预测项更改，从数量更改为数量差"
   ]
  },
  {
   "cell_type": "code",
   "execution_count": 4,
   "metadata": {},
   "outputs": [],
   "source": [
    "train_data_1 = pd.read_csv('C:/ml_data/df/server/eda_engineering_3_point_1.csv')\n",
    "train_data_2 = pd.read_csv('C:/ml_data/df/server/eda_engineering_3_point_2.csv')\n",
    "train_data_3 = pd.read_csv('C:/ml_data/df/server/eda_engineering_3_point_3.csv')\n",
    "train_data_4 = pd.read_csv('C:/ml_data/df/server/eda_engineering_3_point_4.csv')\n",
    "train_data_5 = pd.read_csv('C:/ml_data/df/server/eda_engineering_3_point_5.csv')\n",
    "test_data = pd.read_csv('C:/ml_data/df/server/eda_engineering_3_test_data.csv')"
   ]
  },
  {
   "cell_type": "code",
   "execution_count": 34,
   "metadata": {},
   "outputs": [
    {
     "data": {
      "application/vnd.jupyter.widget-view+json": {
       "model_id": "6bed54949d5b48e38248524bd4fea358",
       "version_major": 2,
       "version_minor": 0
      },
      "text/plain": [
       "HBox(children=(FloatProgress(value=0.0, max=5.0), HTML(value='')))"
      ]
     },
     "metadata": {},
     "output_type": "display_data"
    },
    {
     "name": "stdout",
     "output_type": "stream",
     "text": [
      "\n"
     ]
    }
   ],
   "source": [
    "all_data = [train_data_1, train_data_2, train_data_3, train_data_4, train_data_5]\n",
    "count = 0\n",
    "for data_single in tqdm(all_data):\n",
    "    count += 1\n",
    "    t1 = data_single['LAUNCHING_JOB_NUMS_0']\n",
    "    t2 = data_single['LAUNCHING_JOB_NUMS_1']\n",
    "    t3 = data_single['LAUNCHING_JOB_NUMS_2']\n",
    "    t4 = data_single['LAUNCHING_JOB_NUMS_3']\n",
    "    t5 = data_single['LAUNCHING_JOB_NUMS_4']\n",
    "    tar = data_single['TARGET_LAUNCHING_JOB_NUMS_{}'.format(count)]\n",
    "    all_count = [0]*len(t1)\n",
    "    for i in range(len(t1)):\n",
    "        if t1[i] == t2[i] == t3[i] == t4[i] == t5[i] and t1[i] != 0:\n",
    "            all_count[i] = 1\n",
    "    data_single['LAUNCHING_JOBS_IS_CONGESTED'] = all_count"
   ]
  },
  {
   "cell_type": "code",
   "execution_count": 37,
   "metadata": {},
   "outputs": [
    {
     "data": {
      "application/vnd.jupyter.widget-view+json": {
       "model_id": "e159f6f267f741cb93ff262ea0dadc2c",
       "version_major": 2,
       "version_minor": 0
      },
      "text/plain": [
       "HBox(children=(FloatProgress(value=0.0, max=1.0), HTML(value='')))"
      ]
     },
     "metadata": {},
     "output_type": "display_data"
    },
    {
     "name": "stdout",
     "output_type": "stream",
     "text": [
      "\n"
     ]
    }
   ],
   "source": [
    "all_data_ = [test_data]\n",
    "count = 0\n",
    "for data_single in tqdm(all_data_):\n",
    "    count += 1\n",
    "    t1 = data_single['LAUNCHING_JOB_NUMS_0']\n",
    "    t2 = data_single['LAUNCHING_JOB_NUMS_1']\n",
    "    t3 = data_single['LAUNCHING_JOB_NUMS_2']\n",
    "    t4 = data_single['LAUNCHING_JOB_NUMS_3']\n",
    "    t5 = data_single['LAUNCHING_JOB_NUMS_4']\n",
    "    #tar = data_single['TARGET_LAUNCHING_JOB_NUMS_{}'.format(count)]\n",
    "    all_count = [0]*len(t1)\n",
    "    for i in range(len(t1)):\n",
    "        if t1[i] == t2[i] == t3[i] == t4[i] == t5[i] and t1[i] != 0:\n",
    "            all_count[i] = 1\n",
    "    data_single['LAUNCHING_JOBS_IS_CONGESTED'] = all_count"
   ]
  },
  {
   "cell_type": "code",
   "execution_count": 35,
   "metadata": {},
   "outputs": [
    {
     "data": {
      "application/vnd.jupyter.widget-view+json": {
       "model_id": "7925aa708389475aa0284049e78cd4c5",
       "version_major": 2,
       "version_minor": 0
      },
      "text/plain": [
       "HBox(children=(FloatProgress(value=0.0, max=5.0), HTML(value='')))"
      ]
     },
     "metadata": {},
     "output_type": "display_data"
    },
    {
     "name": "stdout",
     "output_type": "stream",
     "text": [
      "\n"
     ]
    }
   ],
   "source": [
    "count = 0\n",
    "for data_single in tqdm(all_data):\n",
    "    count += 1\n",
    "    data_single['TARGET_LAUNCHING_JOB_NUMS_{}'.format(count)] = data_single['TARGET_LAUNCHING_JOB_NUMS_{}'.format(count)] - data_single['LAUNCHING_JOB_NUMS_4']"
   ]
  },
  {
   "cell_type": "code",
   "execution_count": 40,
   "metadata": {},
   "outputs": [
    {
     "data": {
      "application/vnd.jupyter.widget-view+json": {
       "model_id": "2abdc22a70d646cc923a51cae89e3685",
       "version_major": 2,
       "version_minor": 0
      },
      "text/plain": [
       "HBox(children=(FloatProgress(value=0.0, max=5.0), HTML(value='')))"
      ]
     },
     "metadata": {},
     "output_type": "display_data"
    },
    {
     "name": "stdout",
     "output_type": "stream",
     "text": [
      "\n"
     ]
    }
   ],
   "source": [
    "count = 0\n",
    "for data_single in tqdm(all_data):\n",
    "    count += 1\n",
    "    data_single.to_csv('C:/ml_data/df/server/eda_engineering_4_point_{}.csv'.format(count),index = False)\n",
    "    "
   ]
  },
  {
   "cell_type": "code",
   "execution_count": 41,
   "metadata": {},
   "outputs": [],
   "source": [
    "test_data.to_csv('C:/ml_data/df/server/eda_engineering_4_test_data.csv', index = False)"
   ]
  },
  {
   "cell_type": "code",
   "execution_count": null,
   "metadata": {},
   "outputs": [],
   "source": []
  }
 ],
 "metadata": {
  "kernelspec": {
   "display_name": "Python 3",
   "language": "python",
   "name": "python3"
  },
  "language_info": {
   "codemirror_mode": {
    "name": "ipython",
    "version": 3
   },
   "file_extension": ".py",
   "mimetype": "text/x-python",
   "name": "python",
   "nbconvert_exporter": "python",
   "pygments_lexer": "ipython3",
   "version": "3.7.0"
  }
 },
 "nbformat": 4,
 "nbformat_minor": 2
}
