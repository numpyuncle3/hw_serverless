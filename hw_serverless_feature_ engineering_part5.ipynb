{
 "cells": [
  {
   "cell_type": "code",
   "execution_count": 5,
   "metadata": {},
   "outputs": [],
   "source": [
    "#通用\n",
    "from tqdm.notebook import tqdm\n",
    "#数据处理\n",
    "import pandas as pd\n",
    "import numpy as np\n",
    "import matplotlib.pyplot as plt\n",
    "%matplotlib inline\n",
    "import seaborn as sns\n",
    "import time\n",
    "from scipy import stats "
   ]
  },
  {
   "cell_type": "code",
   "execution_count": 6,
   "metadata": {},
   "outputs": [],
   "source": [
    "#对预测目标进行正态化变换"
   ]
  },
  {
   "cell_type": "code",
   "execution_count": 17,
   "metadata": {},
   "outputs": [],
   "source": [
    "train_data_1 = pd.read_csv('C:/ml_data/df/server/eda_engineering_4_point_1.csv')\n",
    "train_data_2 = pd.read_csv('C:/ml_data/df/server/eda_engineering_4_point_2.csv')\n",
    "train_data_3 = pd.read_csv('C:/ml_data/df/server/eda_engineering_4_point_3.csv')\n",
    "train_data_4 = pd.read_csv('C:/ml_data/df/server/eda_engineering_4_point_4.csv')\n",
    "train_data_5 = pd.read_csv('C:/ml_data/df/server/eda_engineering_4_point_5.csv')\n",
    "test_data = pd.read_csv('C:/ml_data/df/server/eda_engineering_4_test_data.csv')"
   ]
  },
  {
   "cell_type": "code",
   "execution_count": 18,
   "metadata": {},
   "outputs": [],
   "source": [
    "train_data_1['TARGET_CPU_USAGE_1'] = train_data_1['TARGET_CPU_USAGE_1'].apply(np.log1p)\n",
    "train_data_2['TARGET_CPU_USAGE_2'] = train_data_2['TARGET_CPU_USAGE_2'].apply(np.log1p)\n",
    "train_data_3['TARGET_CPU_USAGE_3'] = train_data_3['TARGET_CPU_USAGE_3'].apply(np.log1p)\n",
    "train_data_4['TARGET_CPU_USAGE_4'] = train_data_4['TARGET_CPU_USAGE_4'].apply(np.log1p)\n",
    "train_data_5['TARGET_CPU_USAGE_5'] = train_data_5['TARGET_CPU_USAGE_5'].apply(np.log1p)"
   ]
  },
  {
   "cell_type": "code",
   "execution_count": 23,
   "metadata": {},
   "outputs": [],
   "source": [
    "train_data_1['TARGET_LAUNCHING_JOB_NUMS_1'] = train_data_1['TARGET_LAUNCHING_JOB_NUMS_1'].apply(np.log1p)\n",
    "train_data_2['TARGET_LAUNCHING_JOB_NUMS_2'] = train_data_2['TARGET_LAUNCHING_JOB_NUMS_2'].apply(np.log1p)\n",
    "train_data_3['TARGET_LAUNCHING_JOB_NUMS_3'] = train_data_3['TARGET_LAUNCHING_JOB_NUMS_3'].apply(np.log1p)\n",
    "train_data_4['TARGET_LAUNCHING_JOB_NUMS_4'] = train_data_4['TARGET_LAUNCHING_JOB_NUMS_4'].apply(np.log1p)\n",
    "train_data_5['TARGET_LAUNCHING_JOB_NUMS_5'] = train_data_5['TARGET_LAUNCHING_JOB_NUMS_5'].apply(np.log1p)"
   ]
  },
  {
   "cell_type": "code",
   "execution_count": 25,
   "metadata": {},
   "outputs": [
    {
     "data": {
      "application/vnd.jupyter.widget-view+json": {
       "model_id": "f490421c72a84513b8b8eb40b49aa025",
       "version_major": 2,
       "version_minor": 0
      },
      "text/plain": [
       "HBox(children=(FloatProgress(value=0.0, max=5.0), HTML(value='')))"
      ]
     },
     "metadata": {},
     "output_type": "display_data"
    },
    {
     "name": "stdout",
     "output_type": "stream",
     "text": [
      "\n"
     ]
    }
   ],
   "source": [
    "count = 0\n",
    "all_data = [train_data_1, train_data_2, train_data_3, train_data_4, train_data_5]\n",
    "for data_single in tqdm(all_data):\n",
    "    count += 1\n",
    "    data_single.to_csv('C:/ml_data/df/server/eda_engineering_5_point_{}.csv'.format(count),index = False)"
   ]
  },
  {
   "cell_type": "code",
   "execution_count": null,
   "metadata": {},
   "outputs": [],
   "source": []
  },
  {
   "cell_type": "code",
   "execution_count": null,
   "metadata": {},
   "outputs": [],
   "source": []
  },
  {
   "cell_type": "code",
   "execution_count": null,
   "metadata": {},
   "outputs": [],
   "source": []
  }
 ],
 "metadata": {
  "kernelspec": {
   "display_name": "Python 3",
   "language": "python",
   "name": "python3"
  },
  "language_info": {
   "codemirror_mode": {
    "name": "ipython",
    "version": 3
   },
   "file_extension": ".py",
   "mimetype": "text/x-python",
   "name": "python",
   "nbconvert_exporter": "python",
   "pygments_lexer": "ipython3",
   "version": "3.7.0"
  }
 },
 "nbformat": 4,
 "nbformat_minor": 2
}
