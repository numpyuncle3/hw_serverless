{
 "cells": [
  {
   "cell_type": "code",
   "execution_count": 1,
   "metadata": {},
   "outputs": [],
   "source": [
    "#通用\n",
    "import time\n",
    "from tqdm.notebook import tqdm\n",
    "#数据处理\n",
    "import pandas as pd\n",
    "import numpy as np\n",
    "import matplotlib.pyplot as plt\n",
    "%matplotlib inline\n",
    "import seaborn as sns\n",
    "from sklearn.preprocessing import LabelEncoder\n",
    "from sklearn.preprocessing import OneHotEncoder\n"
   ]
  },
  {
   "cell_type": "code",
   "execution_count": 2,
   "metadata": {},
   "outputs": [],
   "source": [
    "train_data_1 = pd.read_csv('C:/ml_data/df/server/eda_engineering_2_point_1.csv')\n",
    "train_data_2 = pd.read_csv('C:/ml_data/df/server/eda_engineering_2_point_2.csv')\n",
    "train_data_3 = pd.read_csv('C:/ml_data/df/server/eda_engineering_2_point_3.csv')\n",
    "train_data_4 = pd.read_csv('C:/ml_data/df/server/eda_engineering_2_point_4.csv')\n",
    "train_data_5 = pd.read_csv('C:/ml_data/df/server/eda_engineering_2_point_5.csv')\n",
    "test_data = pd.read_csv('C:/ml_data/df/server/eda_engineering_2_test_data.csv') "
   ]
  },
  {
   "cell_type": "code",
   "execution_count": 3,
   "metadata": {},
   "outputs": [],
   "source": [
    "for i in range(2,6):\n",
    "    feature_name = ['TARGET_CPU_USAGE_','TARGET_LAUNCHING_JOB_NUMS_']\n",
    "    for item in feature_name:\n",
    "        fea_ = item+str(i)\n",
    "        del train_data_1[fea_]"
   ]
  },
  {
   "cell_type": "code",
   "execution_count": 4,
   "metadata": {},
   "outputs": [],
   "source": [
    "for i in [1,3,4,5]:\n",
    "    feature_name = ['TARGET_CPU_USAGE_','TARGET_LAUNCHING_JOB_NUMS_']\n",
    "    for item in feature_name:\n",
    "        fea_ = item+str(i)\n",
    "        del train_data_2[fea_]"
   ]
  },
  {
   "cell_type": "code",
   "execution_count": 5,
   "metadata": {},
   "outputs": [],
   "source": [
    "for i in[1,2,4,5]:\n",
    "    feature_name = ['TARGET_CPU_USAGE_','TARGET_LAUNCHING_JOB_NUMS_']\n",
    "    for item in feature_name:\n",
    "        fea_ = item+str(i)\n",
    "        del train_data_3[fea_]"
   ]
  },
  {
   "cell_type": "code",
   "execution_count": 6,
   "metadata": {},
   "outputs": [],
   "source": [
    "for i in [1,3,2,5]:\n",
    "    feature_name = ['TARGET_CPU_USAGE_','TARGET_LAUNCHING_JOB_NUMS_']\n",
    "    for item in feature_name:\n",
    "        fea_ = item+str(i)\n",
    "        del train_data_4[fea_]"
   ]
  },
  {
   "cell_type": "code",
   "execution_count": 7,
   "metadata": {},
   "outputs": [],
   "source": [
    "for i in [1,3,4,2]:\n",
    "    feature_name = ['TARGET_CPU_USAGE_','TARGET_LAUNCHING_JOB_NUMS_']\n",
    "    for item in feature_name:\n",
    "        fea_ = item+str(i)\n",
    "        del train_data_5[fea_]"
   ]
  },
  {
   "cell_type": "code",
   "execution_count": 8,
   "metadata": {},
   "outputs": [
    {
     "name": "stdout",
     "output_type": "stream",
     "text": [
      "<class 'pandas.core.frame.DataFrame'>\n",
      "RangeIndex: 9892 entries, 0 to 9891\n",
      "Data columns (total 47 columns):\n",
      "CU_0                           9892 non-null int64\n",
      "QUEUE_TYPE_0                   9892 non-null object\n",
      "CPU_USAGE_0                    9892 non-null int64\n",
      "MEM_USAGE_0                    9892 non-null int64\n",
      "LAUNCHING_JOB_NUMS_0           9892 non-null int64\n",
      "RUNNING_JOB_NUMS_0             9892 non-null int64\n",
      "SUCCEED_JOB_NUMS_0             9892 non-null int64\n",
      "CANCELLED_JOB_NUMS_0           9892 non-null int64\n",
      "RESOURCE_TYPE_0                9892 non-null object\n",
      "DISK_USAGE_0                   9892 non-null float64\n",
      "CPU_USAGE_1                    9892 non-null int64\n",
      "MEM_USAGE_1                    9892 non-null int64\n",
      "LAUNCHING_JOB_NUMS_1           9892 non-null int64\n",
      "RUNNING_JOB_NUMS_1             9892 non-null int64\n",
      "SUCCEED_JOB_NUMS_1             9892 non-null int64\n",
      "CANCELLED_JOB_NUMS_1           9892 non-null int64\n",
      "DISK_USAGE_1                   9892 non-null float64\n",
      "CPU_USAGE_2                    9892 non-null int64\n",
      "MEM_USAGE_2                    9892 non-null int64\n",
      "LAUNCHING_JOB_NUMS_2           9892 non-null int64\n",
      "RUNNING_JOB_NUMS_2             9892 non-null int64\n",
      "SUCCEED_JOB_NUMS_2             9892 non-null int64\n",
      "CANCELLED_JOB_NUMS_2           9892 non-null int64\n",
      "DISK_USAGE_2                   9892 non-null float64\n",
      "CPU_USAGE_3                    9892 non-null int64\n",
      "MEM_USAGE_3                    9892 non-null int64\n",
      "LAUNCHING_JOB_NUMS_3           9892 non-null int64\n",
      "RUNNING_JOB_NUMS_3             9892 non-null int64\n",
      "SUCCEED_JOB_NUMS_3             9892 non-null int64\n",
      "CANCELLED_JOB_NUMS_3           9892 non-null int64\n",
      "DISK_USAGE_3                   9892 non-null float64\n",
      "CPU_USAGE_4                    9892 non-null int64\n",
      "MEM_USAGE_4                    9892 non-null int64\n",
      "LAUNCHING_JOB_NUMS_4           9892 non-null int64\n",
      "RUNNING_JOB_NUMS_4             9892 non-null int64\n",
      "SUCCEED_JOB_NUMS_4             9892 non-null int64\n",
      "CANCELLED_JOB_NUMS_4           9892 non-null int64\n",
      "DISK_USAGE_4                   9892 non-null float64\n",
      "TARGET_CPU_USAGE_5             9892 non-null float64\n",
      "TARGET_LAUNCHING_JOB_NUMS_5    9892 non-null float64\n",
      "CPU_USAGE_SUM                  9892 non-null int64\n",
      "MEM_USAGE_SUM                  9892 non-null int64\n",
      "LAUNCHING_JOB_NUMS_SUM         9892 non-null int64\n",
      "RUNNING_JOB_NUMS_SUM           9892 non-null int64\n",
      "SUCCEED_JOB_NUMS_SUM           9892 non-null int64\n",
      "CANCELLED_JOB_NUMS_SUM         9892 non-null int64\n",
      "DISK_USAGE_SUM                 9892 non-null float64\n",
      "dtypes: float64(8), int64(37), object(2)\n",
      "memory usage: 3.5+ MB\n"
     ]
    }
   ],
   "source": [
    "train_data_5.info()"
   ]
  },
  {
   "cell_type": "code",
   "execution_count": 9,
   "metadata": {},
   "outputs": [],
   "source": [
    "#无需进行onehot编码，因为数据中的类别特征只有两个取值，对于树模型来说此时one-hot和类别编码没有区别\n",
    "#不采用线性模型"
   ]
  },
  {
   "cell_type": "code",
   "execution_count": 10,
   "metadata": {},
   "outputs": [],
   "source": [
    "label_encoder = LabelEncoder()\n",
    "all_data = [train_data_1, train_data_2, train_data_3, train_data_4, train_data_5]\n",
    "for data_single in all_data:\n",
    "    cat_features = ['QUEUE_TYPE_0','RESOURCE_TYPE_0']\n",
    "    for cat_feature_single in cat_features:\n",
    "        data_single[cat_feature_single] =label_encoder.fit_transform(data_single[cat_feature_single])"
   ]
  },
  {
   "cell_type": "code",
   "execution_count": 11,
   "metadata": {},
   "outputs": [],
   "source": [
    "cat_features = ['QUEUE_TYPE_0','RESOURCE_TYPE_0']\n",
    "for cat_feature_single in cat_features:\n",
    "    test_data[cat_feature_single] =label_encoder.fit_transform(test_data[cat_feature_single])"
   ]
  },
  {
   "cell_type": "code",
   "execution_count": 13,
   "metadata": {},
   "outputs": [
    {
     "data": {
      "text/plain": [
       "Index(['CU_0', 'QUEUE_TYPE_0', 'CPU_USAGE_0', 'MEM_USAGE_0',\n",
       "       'LAUNCHING_JOB_NUMS_0', 'RUNNING_JOB_NUMS_0', 'SUCCEED_JOB_NUMS_0',\n",
       "       'CANCELLED_JOB_NUMS_0', 'RESOURCE_TYPE_0', 'DISK_USAGE_0',\n",
       "       'CPU_USAGE_1', 'MEM_USAGE_1', 'LAUNCHING_JOB_NUMS_1',\n",
       "       'RUNNING_JOB_NUMS_1', 'SUCCEED_JOB_NUMS_1', 'CANCELLED_JOB_NUMS_1',\n",
       "       'DISK_USAGE_1', 'CPU_USAGE_2', 'MEM_USAGE_2', 'LAUNCHING_JOB_NUMS_2',\n",
       "       'RUNNING_JOB_NUMS_2', 'SUCCEED_JOB_NUMS_2', 'CANCELLED_JOB_NUMS_2',\n",
       "       'DISK_USAGE_2', 'CPU_USAGE_3', 'MEM_USAGE_3', 'LAUNCHING_JOB_NUMS_3',\n",
       "       'RUNNING_JOB_NUMS_3', 'SUCCEED_JOB_NUMS_3', 'CANCELLED_JOB_NUMS_3',\n",
       "       'DISK_USAGE_3', 'CPU_USAGE_4', 'MEM_USAGE_4', 'LAUNCHING_JOB_NUMS_4',\n",
       "       'RUNNING_JOB_NUMS_4', 'SUCCEED_JOB_NUMS_4', 'CANCELLED_JOB_NUMS_4',\n",
       "       'DISK_USAGE_4', 'TARGET_CPU_USAGE_1', 'TARGET_LAUNCHING_JOB_NUMS_1',\n",
       "       'CPU_USAGE_SUM', 'MEM_USAGE_SUM', 'LAUNCHING_JOB_NUMS_SUM',\n",
       "       'RUNNING_JOB_NUMS_SUM', 'SUCCEED_JOB_NUMS_SUM',\n",
       "       'CANCELLED_JOB_NUMS_SUM', 'DISK_USAGE_SUM'],\n",
       "      dtype='object')"
      ]
     },
     "execution_count": 13,
     "metadata": {},
     "output_type": "execute_result"
    }
   ],
   "source": [
    "train_data_1.columns"
   ]
  },
  {
   "cell_type": "code",
   "execution_count": 40,
   "metadata": {},
   "outputs": [],
   "source": [
    "count = 0\n",
    "for data_single in all_data:\n",
    "    count += 1\n",
    "    data_single.to_csv('C:/ml_data/df/server/eda_engineering_3_point_{}.csv'.format(count),index = False)"
   ]
  },
  {
   "cell_type": "code",
   "execution_count": 41,
   "metadata": {},
   "outputs": [],
   "source": [
    "test_data.to_csv('C:/ml_data/df/server/eda_engineering_3_test_data.csv',index = False)"
   ]
  },
  {
   "cell_type": "code",
   "execution_count": null,
   "metadata": {},
   "outputs": [],
   "source": []
  }
 ],
 "metadata": {
  "kernelspec": {
   "display_name": "Python 3",
   "language": "python",
   "name": "python3"
  },
  "language_info": {
   "codemirror_mode": {
    "name": "ipython",
    "version": 3
   },
   "file_extension": ".py",
   "mimetype": "text/x-python",
   "name": "python",
   "nbconvert_exporter": "python",
   "pygments_lexer": "ipython3",
   "version": "3.7.0"
  }
 },
 "nbformat": 4,
 "nbformat_minor": 2
}
