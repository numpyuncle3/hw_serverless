{
 "cells": [
  {
   "cell_type": "code",
   "execution_count": 1,
   "metadata": {},
   "outputs": [],
   "source": [
    "#本文件用以生成训练集和测试集"
   ]
  },
  {
   "cell_type": "code",
   "execution_count": 26,
   "metadata": {},
   "outputs": [],
   "source": [
    "#通用\n",
    "from tqdm.notebook import tqdm\n",
    "#数据处理\n",
    "import pandas as pd\n",
    "import numpy as np\n",
    "import matplotlib.pyplot as plt\n",
    "%matplotlib inline\n",
    "import seaborn as sns\n",
    "import time"
   ]
  },
  {
   "cell_type": "code",
   "execution_count": 27,
   "metadata": {},
   "outputs": [],
   "source": [
    "class mergesort(): \n",
    "    def __init__(self):\n",
    "        return\n",
    "    def mergesort(self,nums):\n",
    "        \n",
    "        if len(nums)<=1:\n",
    "            return nums\n",
    "        left = self.mergesort(nums[:int(len(nums)/2)])\n",
    "        right = self.mergesort(nums[int(len(nums)/2):])\n",
    "        result = self.merge(left,right)\n",
    "        return result\n",
    "\n",
    "    def merge(self,left,right):\n",
    "        result = []\n",
    "        p1, p2 = 0, 0\n",
    "        while p1 < len(left) and p2 < len(right):\n",
    "            if left[p1] < right[p2]:\n",
    "                result.append(left[p1])\n",
    "                p1 += 1\n",
    "            else:\n",
    "                result.append(right[p2])\n",
    "                p2 += 1\n",
    "        result += left[p1:len(left)]\n",
    "        result += right[p2:len(right)]\n",
    "        return result\n"
   ]
  },
  {
   "cell_type": "code",
   "execution_count": 28,
   "metadata": {},
   "outputs": [],
   "source": [
    "train_data = pd.read_csv('C:/ml_data/df/server/train.csv')\n",
    "test_data = pd.read_csv('C:/ml_data/df/server/evaluation_public.csv')\n",
    "sub_data = pd.read_csv('C:/ml_data/df/server/submit_example.csv')"
   ]
  },
  {
   "cell_type": "code",
   "execution_count": 29,
   "metadata": {},
   "outputs": [],
   "source": [
    "#测试集中STATUS 只有 available\n",
    "#测试集中QUEUE_TYPE 只有 Sql 和 general\n",
    "#测试集中PLATFORM只有x86\n",
    "\n",
    "#删除训练集中超出测试范围的数据"
   ]
  },
  {
   "cell_type": "code",
   "execution_count": 30,
   "metadata": {},
   "outputs": [
    {
     "name": "stdout",
     "output_type": "stream",
     "text": [
      "保留了 95 %的数据\n"
     ]
    }
   ],
   "source": [
    "train_size_old = len(train_data)\n",
    "train_data.drop(index = train_data[train_data['STATUS'] != 'available'].index, inplace = True)\n",
    "train_data.drop(index = train_data[train_data['QUEUE_TYPE'] == 'spark'].index, inplace = True)\n",
    "train_data.drop(index = train_data[train_data['PLATFORM'] == 'aarch64'].index, inplace = True)\n",
    "train_size_new = len(train_data)\n",
    "print('保留了',int(train_size_new/train_size_old*100),'%的数据')"
   ]
  },
  {
   "cell_type": "code",
   "execution_count": 31,
   "metadata": {},
   "outputs": [
    {
     "data": {
      "text/html": [
       "<div>\n",
       "<style scoped>\n",
       "    .dataframe tbody tr th:only-of-type {\n",
       "        vertical-align: middle;\n",
       "    }\n",
       "\n",
       "    .dataframe tbody tr th {\n",
       "        vertical-align: top;\n",
       "    }\n",
       "\n",
       "    .dataframe thead th {\n",
       "        text-align: right;\n",
       "    }\n",
       "</style>\n",
       "<table border=\"1\" class=\"dataframe\">\n",
       "  <thead>\n",
       "    <tr style=\"text-align: right;\">\n",
       "      <th></th>\n",
       "      <th>QUEUE_ID</th>\n",
       "      <th>CU</th>\n",
       "      <th>STATUS</th>\n",
       "      <th>QUEUE_TYPE</th>\n",
       "      <th>PLATFORM</th>\n",
       "      <th>CPU_USAGE</th>\n",
       "      <th>MEM_USAGE</th>\n",
       "      <th>LAUNCHING_JOB_NUMS</th>\n",
       "      <th>RUNNING_JOB_NUMS</th>\n",
       "      <th>SUCCEED_JOB_NUMS</th>\n",
       "      <th>CANCELLED_JOB_NUMS</th>\n",
       "      <th>FAILED_JOB_NUMS</th>\n",
       "      <th>DOTTING_TIME</th>\n",
       "      <th>RESOURCE_TYPE</th>\n",
       "      <th>DISK_USAGE</th>\n",
       "    </tr>\n",
       "  </thead>\n",
       "  <tbody>\n",
       "    <tr>\n",
       "      <th>0</th>\n",
       "      <td>298</td>\n",
       "      <td>16</td>\n",
       "      <td>available</td>\n",
       "      <td>sql</td>\n",
       "      <td>x86_64</td>\n",
       "      <td>0</td>\n",
       "      <td>0</td>\n",
       "      <td>0</td>\n",
       "      <td>0</td>\n",
       "      <td>4</td>\n",
       "      <td>0</td>\n",
       "      <td>0</td>\n",
       "      <td>1582548540000</td>\n",
       "      <td>NaN</td>\n",
       "      <td>NaN</td>\n",
       "    </tr>\n",
       "    <tr>\n",
       "      <th>1</th>\n",
       "      <td>298</td>\n",
       "      <td>16</td>\n",
       "      <td>available</td>\n",
       "      <td>sql</td>\n",
       "      <td>x86_64</td>\n",
       "      <td>0</td>\n",
       "      <td>0</td>\n",
       "      <td>0</td>\n",
       "      <td>0</td>\n",
       "      <td>4</td>\n",
       "      <td>0</td>\n",
       "      <td>0</td>\n",
       "      <td>1582548840000</td>\n",
       "      <td>NaN</td>\n",
       "      <td>NaN</td>\n",
       "    </tr>\n",
       "    <tr>\n",
       "      <th>2</th>\n",
       "      <td>21671</td>\n",
       "      <td>256</td>\n",
       "      <td>available</td>\n",
       "      <td>sql</td>\n",
       "      <td>x86_64</td>\n",
       "      <td>0</td>\n",
       "      <td>0</td>\n",
       "      <td>0</td>\n",
       "      <td>0</td>\n",
       "      <td>0</td>\n",
       "      <td>0</td>\n",
       "      <td>1</td>\n",
       "      <td>1582549500000</td>\n",
       "      <td>NaN</td>\n",
       "      <td>NaN</td>\n",
       "    </tr>\n",
       "    <tr>\n",
       "      <th>3</th>\n",
       "      <td>21671</td>\n",
       "      <td>256</td>\n",
       "      <td>available</td>\n",
       "      <td>sql</td>\n",
       "      <td>x86_64</td>\n",
       "      <td>0</td>\n",
       "      <td>0</td>\n",
       "      <td>0</td>\n",
       "      <td>0</td>\n",
       "      <td>4</td>\n",
       "      <td>0</td>\n",
       "      <td>0</td>\n",
       "      <td>1582549500000</td>\n",
       "      <td>NaN</td>\n",
       "      <td>NaN</td>\n",
       "    </tr>\n",
       "    <tr>\n",
       "      <th>4</th>\n",
       "      <td>297</td>\n",
       "      <td>16</td>\n",
       "      <td>available</td>\n",
       "      <td>sql</td>\n",
       "      <td>x86_64</td>\n",
       "      <td>0</td>\n",
       "      <td>0</td>\n",
       "      <td>0</td>\n",
       "      <td>0</td>\n",
       "      <td>7</td>\n",
       "      <td>0</td>\n",
       "      <td>0</td>\n",
       "      <td>1582549500000</td>\n",
       "      <td>NaN</td>\n",
       "      <td>NaN</td>\n",
       "    </tr>\n",
       "  </tbody>\n",
       "</table>\n",
       "</div>"
      ],
      "text/plain": [
       "   QUEUE_ID   CU     STATUS QUEUE_TYPE PLATFORM  CPU_USAGE  MEM_USAGE  \\\n",
       "0       298   16  available        sql   x86_64          0          0   \n",
       "1       298   16  available        sql   x86_64          0          0   \n",
       "2     21671  256  available        sql   x86_64          0          0   \n",
       "3     21671  256  available        sql   x86_64          0          0   \n",
       "4       297   16  available        sql   x86_64          0          0   \n",
       "\n",
       "   LAUNCHING_JOB_NUMS  RUNNING_JOB_NUMS  SUCCEED_JOB_NUMS  CANCELLED_JOB_NUMS  \\\n",
       "0                   0                 0                 4                   0   \n",
       "1                   0                 0                 4                   0   \n",
       "2                   0                 0                 0                   0   \n",
       "3                   0                 0                 4                   0   \n",
       "4                   0                 0                 7                   0   \n",
       "\n",
       "   FAILED_JOB_NUMS   DOTTING_TIME RESOURCE_TYPE  DISK_USAGE  \n",
       "0                0  1582548540000           NaN         NaN  \n",
       "1                0  1582548840000           NaN         NaN  \n",
       "2                1  1582549500000           NaN         NaN  \n",
       "3                0  1582549500000           NaN         NaN  \n",
       "4                0  1582549500000           NaN         NaN  "
      ]
     },
     "execution_count": 31,
     "metadata": {},
     "output_type": "execute_result"
    }
   ],
   "source": [
    "train_data.head()"
   ]
  },
  {
   "cell_type": "code",
   "execution_count": 32,
   "metadata": {},
   "outputs": [
    {
     "name": "stdout",
     "output_type": "stream",
     "text": [
      "2 [16]\n",
      "3 [16]\n",
      "4 [16]\n",
      "26 [1024]\n",
      "27 [512]\n",
      "36 [16]\n",
      "233 [16]\n",
      "281 [64]\n",
      "287 [16]\n",
      "291 [1024]\n",
      "293 [960]\n",
      "297 [16]\n",
      "298 [16]\n",
      "21487 [64]\n",
      "21671 [256]\n",
      "21673 [64]\n",
      "21825 [256]\n",
      "81221 [16]\n",
      "82695 [16]\n",
      "82697 [16]\n",
      "82929 [64]\n",
      "83109 [16]\n",
      "83609 [16]\n",
      "84151 [16]\n",
      "84387 [16]\n",
      "84907 [16]\n",
      "85101 [64]\n",
      "85153 [64]\n",
      "85265 [64]\n",
      "85267 [64]\n",
      "85617 [16]\n",
      "85619 [16]\n",
      "85693 [16]\n",
      "85731 [16]\n",
      "85781 [64]\n",
      "85915 [64]\n",
      "85933 [16]\n",
      "85977 [ 16  32  48  64 112 128]\n",
      "86865 [64]\n",
      "86867 [256]\n",
      "87139 [16]\n",
      "删除了 8793 条数据\n"
     ]
    }
   ],
   "source": [
    "#这里有一个异常点，按照我的理解，QUEUE_ID和CU应该是一一对应的，但是训练数据中存在一个队列，这个队列有6个CU。\n",
    "#训练集中的其他队列，测试集中的所有队列，每个队列都是只有一个CU数量。\n",
    "#目前把训练集的这个队列按照异常点处理，删除处理。\n",
    "tt = train_data.groupby('QUEUE_ID')\n",
    "for i in tt:\n",
    "    print(i[0],np.unique(i[1]['CU']))\n",
    "print('删除了',len(train_data[train_data['QUEUE_ID'] == 85977].index),'条数据')\n",
    "train_data.drop(index = train_data[train_data['QUEUE_ID'] == 85977].index, inplace = True)"
   ]
  },
  {
   "cell_type": "code",
   "execution_count": 33,
   "metadata": {},
   "outputs": [],
   "source": [
    "#按照queue_id和时间排序，方便肉眼观察，测试集数据也进行处理，测试集数据的顺序不影响最后提交\n",
    "train_data = train_data.sort_values(by=['QUEUE_ID','DOTTING_TIME'], ascending=True)\n",
    "test_data = test_data.sort_values(by=['QUEUE_ID','DOTTING_TIME'], ascending=True)"
   ]
  },
  {
   "cell_type": "code",
   "execution_count": 34,
   "metadata": {},
   "outputs": [
    {
     "data": {
      "text/plain": [
       "'\\ndef valid_continuous_five(data,timestamp):\\n    for i in range(1,5):\\n        time_ = timestamp + 300000*i\\n        for j in data:\\n            if j < time_:\\n                continue\\n            elif j == time_:\\n                break\\n            else:\\n                return False\\n    return True\\n#检测某个时间戳是否在数据中\\n#使用这个函数不用in检测，会降低时间复杂度\\ndef valid_single_one(data,timestamp):\\n    for i in data:\\n        if i < timestamp:\\n            continue\\n        elif i == timestamp:\\n            return True\\n        else:\\n            return False\\n    return True\\n'"
      ]
     },
     "execution_count": 34,
     "metadata": {},
     "output_type": "execute_result"
    }
   ],
   "source": [
    "#检测以某个时间点开始，训练集中是否存在连续的五个时间点，每个时间点间隔5分钟\n",
    "#使用这个函数不用in检测，会降低时间复杂度\n",
    "#notice：输入data必须是预先排序好的\n",
    "def valid_continuous_five(data,timestamp):\n",
    "    for i in range(1,5):\n",
    "        time_ = timestamp + 300000*i\n",
    "        if time_ not in data:\n",
    "            return False\n",
    "    return True\n",
    "\n",
    "def valid_single_one(data,timestamp):\n",
    "    return timestamp in data\n",
    "\n",
    "'''\n",
    "def valid_continuous_five(data,timestamp):\n",
    "    for i in range(1,5):\n",
    "        time_ = timestamp + 300000*i\n",
    "        for j in data:\n",
    "            if j < time_:\n",
    "                continue\n",
    "            elif j == time_:\n",
    "                break\n",
    "            else:\n",
    "                return False\n",
    "    return True\n",
    "#检测某个时间戳是否在数据中\n",
    "#使用这个函数不用in检测，会降低时间复杂度\n",
    "def valid_single_one(data,timestamp):\n",
    "    for i in data:\n",
    "        if i < timestamp:\n",
    "            continue\n",
    "        elif i == timestamp:\n",
    "            return True\n",
    "        else:\n",
    "            return False\n",
    "    return True\n",
    "'''"
   ]
  },
  {
   "cell_type": "code",
   "execution_count": 35,
   "metadata": {},
   "outputs": [],
   "source": [
    "#生成训练集数据"
   ]
  },
  {
   "cell_type": "code",
   "execution_count": 36,
   "metadata": {},
   "outputs": [],
   "source": [
    "tt = train_data.groupby('QUEUE_ID')"
   ]
  },
  {
   "cell_type": "code",
   "execution_count": 37,
   "metadata": {},
   "outputs": [],
   "source": [
    "#生成总体的训练数据，如果是机器学习模型需要再分开，单独生成十套数据训练十个模型。神经网络模型需要一套数据即可，但是需要再整理数据。"
   ]
  },
  {
   "cell_type": "code",
   "execution_count": 38,
   "metadata": {},
   "outputs": [
    {
     "name": "stdout",
     "output_type": "stream",
     "text": [
      "Now dealing 1/41\n"
     ]
    },
    {
     "data": {
      "application/vnd.jupyter.widget-view+json": {
       "model_id": "33e825174b9b45bcbbf74f8cb5490fcf",
       "version_major": 2,
       "version_minor": 0
      },
      "text/plain": [
       "HBox(children=(FloatProgress(value=0.0, max=19250.0), HTML(value='')))"
      ]
     },
     "metadata": {},
     "output_type": "display_data"
    },
    {
     "name": "stdout",
     "output_type": "stream",
     "text": [
      "\n",
      "Now dealing 2/41\n"
     ]
    },
    {
     "data": {
      "application/vnd.jupyter.widget-view+json": {
       "model_id": "910b506d8e944efe89d9e54b4923ee35",
       "version_major": 2,
       "version_minor": 0
      },
      "text/plain": [
       "HBox(children=(FloatProgress(value=0.0, max=19252.0), HTML(value='')))"
      ]
     },
     "metadata": {},
     "output_type": "display_data"
    },
    {
     "name": "stdout",
     "output_type": "stream",
     "text": [
      "\n",
      "Now dealing 3/41\n"
     ]
    },
    {
     "data": {
      "application/vnd.jupyter.widget-view+json": {
       "model_id": "44d0bb520e6b4659a180d3547a6c8bed",
       "version_major": 2,
       "version_minor": 0
      },
      "text/plain": [
       "HBox(children=(FloatProgress(value=0.0, max=19252.0), HTML(value='')))"
      ]
     },
     "metadata": {},
     "output_type": "display_data"
    },
    {
     "name": "stdout",
     "output_type": "stream",
     "text": [
      "\n",
      "Now dealing 4/41\n"
     ]
    },
    {
     "data": {
      "application/vnd.jupyter.widget-view+json": {
       "model_id": "02a7eb342c5b4dbba15be466e47afb8a",
       "version_major": 2,
       "version_minor": 0
      },
      "text/plain": [
       "HBox(children=(FloatProgress(value=0.0, max=10402.0), HTML(value='')))"
      ]
     },
     "metadata": {},
     "output_type": "display_data"
    },
    {
     "name": "stdout",
     "output_type": "stream",
     "text": [
      "\n",
      "Now dealing 5/41\n"
     ]
    },
    {
     "data": {
      "application/vnd.jupyter.widget-view+json": {
       "model_id": "e0b53057aa6e4dea9c1ce895305657ed",
       "version_major": 2,
       "version_minor": 0
      },
      "text/plain": [
       "HBox(children=(FloatProgress(value=0.0, max=10521.0), HTML(value='')))"
      ]
     },
     "metadata": {},
     "output_type": "display_data"
    },
    {
     "name": "stdout",
     "output_type": "stream",
     "text": [
      "\n",
      "Now dealing 6/41\n"
     ]
    },
    {
     "data": {
      "application/vnd.jupyter.widget-view+json": {
       "model_id": "9fe61b931f344e2fb3081d572230bb34",
       "version_major": 2,
       "version_minor": 0
      },
      "text/plain": [
       "HBox(children=(FloatProgress(value=0.0, max=3237.0), HTML(value='')))"
      ]
     },
     "metadata": {},
     "output_type": "display_data"
    },
    {
     "name": "stdout",
     "output_type": "stream",
     "text": [
      "\n",
      "Now dealing 7/41\n"
     ]
    },
    {
     "data": {
      "application/vnd.jupyter.widget-view+json": {
       "model_id": "ff0807540d0d49bd9a168c1841dd20f5",
       "version_major": 2,
       "version_minor": 0
      },
      "text/plain": [
       "HBox(children=(FloatProgress(value=0.0, max=2094.0), HTML(value='')))"
      ]
     },
     "metadata": {},
     "output_type": "display_data"
    },
    {
     "name": "stdout",
     "output_type": "stream",
     "text": [
      "\n",
      "Now dealing 8/41\n"
     ]
    },
    {
     "data": {
      "application/vnd.jupyter.widget-view+json": {
       "model_id": "a1b37201e63342689a6f0c1670df56af",
       "version_major": 2,
       "version_minor": 0
      },
      "text/plain": [
       "HBox(children=(FloatProgress(value=0.0, max=10360.0), HTML(value='')))"
      ]
     },
     "metadata": {},
     "output_type": "display_data"
    },
    {
     "name": "stdout",
     "output_type": "stream",
     "text": [
      "\n",
      "Now dealing 9/41\n"
     ]
    },
    {
     "data": {
      "application/vnd.jupyter.widget-view+json": {
       "model_id": "e6a9ce1bddcc432fb2fb208fb4ff45ed",
       "version_major": 2,
       "version_minor": 0
      },
      "text/plain": [
       "HBox(children=(FloatProgress(value=0.0, max=6871.0), HTML(value='')))"
      ]
     },
     "metadata": {},
     "output_type": "display_data"
    },
    {
     "name": "stdout",
     "output_type": "stream",
     "text": [
      "\n",
      "Now dealing 10/41\n"
     ]
    },
    {
     "data": {
      "application/vnd.jupyter.widget-view+json": {
       "model_id": "3041e8ad87d841628a198ab1cc92086d",
       "version_major": 2,
       "version_minor": 0
      },
      "text/plain": [
       "HBox(children=(FloatProgress(value=0.0, max=8879.0), HTML(value='')))"
      ]
     },
     "metadata": {},
     "output_type": "display_data"
    },
    {
     "name": "stdout",
     "output_type": "stream",
     "text": [
      "\n",
      "Now dealing 11/41\n"
     ]
    },
    {
     "data": {
      "application/vnd.jupyter.widget-view+json": {
       "model_id": "8efca6ec73434baf997a0591a469de87",
       "version_major": 2,
       "version_minor": 0
      },
      "text/plain": [
       "HBox(children=(FloatProgress(value=0.0, max=8850.0), HTML(value='')))"
      ]
     },
     "metadata": {},
     "output_type": "display_data"
    },
    {
     "name": "stdout",
     "output_type": "stream",
     "text": [
      "\n",
      "Now dealing 12/41\n"
     ]
    },
    {
     "data": {
      "application/vnd.jupyter.widget-view+json": {
       "model_id": "f4ebe7c2785d4d38bd2016af4798a619",
       "version_major": 2,
       "version_minor": 0
      },
      "text/plain": [
       "HBox(children=(FloatProgress(value=0.0, max=21179.0), HTML(value='')))"
      ]
     },
     "metadata": {},
     "output_type": "display_data"
    },
    {
     "name": "stdout",
     "output_type": "stream",
     "text": [
      "\n",
      "Now dealing 13/41\n"
     ]
    },
    {
     "data": {
      "application/vnd.jupyter.widget-view+json": {
       "model_id": "ea7dfde2e5b5464aaa6584f7fcebb761",
       "version_major": 2,
       "version_minor": 0
      },
      "text/plain": [
       "HBox(children=(FloatProgress(value=0.0, max=20376.0), HTML(value='')))"
      ]
     },
     "metadata": {},
     "output_type": "display_data"
    },
    {
     "name": "stdout",
     "output_type": "stream",
     "text": [
      "\n",
      "Now dealing 14/41\n"
     ]
    },
    {
     "data": {
      "application/vnd.jupyter.widget-view+json": {
       "model_id": "4124fe9ad8c14fb095f9f7ba5011961c",
       "version_major": 2,
       "version_minor": 0
      },
      "text/plain": [
       "HBox(children=(FloatProgress(value=0.0, max=28926.0), HTML(value='')))"
      ]
     },
     "metadata": {},
     "output_type": "display_data"
    },
    {
     "name": "stdout",
     "output_type": "stream",
     "text": [
      "\n",
      "Now dealing 15/41\n"
     ]
    },
    {
     "data": {
      "application/vnd.jupyter.widget-view+json": {
       "model_id": "6745617198a6404699c5116c18d6bb55",
       "version_major": 2,
       "version_minor": 0
      },
      "text/plain": [
       "HBox(children=(FloatProgress(value=0.0, max=28090.0), HTML(value='')))"
      ]
     },
     "metadata": {},
     "output_type": "display_data"
    },
    {
     "name": "stdout",
     "output_type": "stream",
     "text": [
      "\n",
      "Now dealing 16/41\n"
     ]
    },
    {
     "data": {
      "application/vnd.jupyter.widget-view+json": {
       "model_id": "986c79e3b51b4410b5bc94a05f79f744",
       "version_major": 2,
       "version_minor": 0
      },
      "text/plain": [
       "HBox(children=(FloatProgress(value=0.0, max=19721.0), HTML(value='')))"
      ]
     },
     "metadata": {},
     "output_type": "display_data"
    },
    {
     "name": "stdout",
     "output_type": "stream",
     "text": [
      "\n",
      "Now dealing 17/41\n"
     ]
    },
    {
     "data": {
      "application/vnd.jupyter.widget-view+json": {
       "model_id": "cbff1e82e5714e81b739484dd63cf00f",
       "version_major": 2,
       "version_minor": 0
      },
      "text/plain": [
       "HBox(children=(FloatProgress(value=0.0, max=19718.0), HTML(value='')))"
      ]
     },
     "metadata": {},
     "output_type": "display_data"
    },
    {
     "name": "stdout",
     "output_type": "stream",
     "text": [
      "\n",
      "Now dealing 18/41\n"
     ]
    },
    {
     "data": {
      "application/vnd.jupyter.widget-view+json": {
       "model_id": "2a69aa5c8c614412b55aca6b6a1ec6d0",
       "version_major": 2,
       "version_minor": 0
      },
      "text/plain": [
       "HBox(children=(FloatProgress(value=0.0, max=19773.0), HTML(value='')))"
      ]
     },
     "metadata": {},
     "output_type": "display_data"
    },
    {
     "name": "stdout",
     "output_type": "stream",
     "text": [
      "\n",
      "Now dealing 19/41\n"
     ]
    },
    {
     "data": {
      "application/vnd.jupyter.widget-view+json": {
       "model_id": "676d11259d5d4506876894a88720087d",
       "version_major": 2,
       "version_minor": 0
      },
      "text/plain": [
       "HBox(children=(FloatProgress(value=0.0, max=19720.0), HTML(value='')))"
      ]
     },
     "metadata": {},
     "output_type": "display_data"
    },
    {
     "name": "stdout",
     "output_type": "stream",
     "text": [
      "\n",
      "Now dealing 20/41\n"
     ]
    },
    {
     "data": {
      "application/vnd.jupyter.widget-view+json": {
       "model_id": "2f9c3a9be75343c58b285bb26266602d",
       "version_major": 2,
       "version_minor": 0
      },
      "text/plain": [
       "HBox(children=(FloatProgress(value=0.0, max=10634.0), HTML(value='')))"
      ]
     },
     "metadata": {},
     "output_type": "display_data"
    },
    {
     "name": "stdout",
     "output_type": "stream",
     "text": [
      "\n",
      "Now dealing 21/41\n"
     ]
    },
    {
     "data": {
      "application/vnd.jupyter.widget-view+json": {
       "model_id": "0e35b2a350954437a671f89f74cc3068",
       "version_major": 2,
       "version_minor": 0
      },
      "text/plain": [
       "HBox(children=(FloatProgress(value=0.0, max=10194.0), HTML(value='')))"
      ]
     },
     "metadata": {},
     "output_type": "display_data"
    },
    {
     "name": "stdout",
     "output_type": "stream",
     "text": [
      "\n",
      "Now dealing 22/41\n"
     ]
    },
    {
     "data": {
      "application/vnd.jupyter.widget-view+json": {
       "model_id": "116579a9c29c40d8ac7e12aac48539fc",
       "version_major": 2,
       "version_minor": 0
      },
      "text/plain": [
       "HBox(children=(FloatProgress(value=0.0, max=8953.0), HTML(value='')))"
      ]
     },
     "metadata": {},
     "output_type": "display_data"
    },
    {
     "name": "stdout",
     "output_type": "stream",
     "text": [
      "\n",
      "Now dealing 23/41\n"
     ]
    },
    {
     "data": {
      "application/vnd.jupyter.widget-view+json": {
       "model_id": "ce2a8d0595424b53b818814d621ea3c5",
       "version_major": 2,
       "version_minor": 0
      },
      "text/plain": [
       "HBox(children=(FloatProgress(value=0.0, max=2060.0), HTML(value='')))"
      ]
     },
     "metadata": {},
     "output_type": "display_data"
    },
    {
     "name": "stdout",
     "output_type": "stream",
     "text": [
      "\n",
      "Now dealing 24/41\n"
     ]
    },
    {
     "data": {
      "application/vnd.jupyter.widget-view+json": {
       "model_id": "98a38aa9913340fbbef734b0dc4df894",
       "version_major": 2,
       "version_minor": 0
      },
      "text/plain": [
       "HBox(children=(FloatProgress(value=0.0, max=11852.0), HTML(value='')))"
      ]
     },
     "metadata": {},
     "output_type": "display_data"
    },
    {
     "name": "stdout",
     "output_type": "stream",
     "text": [
      "\n",
      "Now dealing 25/41\n"
     ]
    },
    {
     "data": {
      "application/vnd.jupyter.widget-view+json": {
       "model_id": "8d14882af0f742619fc528ba13c2d885",
       "version_major": 2,
       "version_minor": 0
      },
      "text/plain": [
       "HBox(children=(FloatProgress(value=0.0, max=17515.0), HTML(value='')))"
      ]
     },
     "metadata": {},
     "output_type": "display_data"
    },
    {
     "name": "stdout",
     "output_type": "stream",
     "text": [
      "\n",
      "Now dealing 26/41\n"
     ]
    },
    {
     "data": {
      "application/vnd.jupyter.widget-view+json": {
       "model_id": "41a6e8e6354a45bab57ccda581aa6d69",
       "version_major": 2,
       "version_minor": 0
      },
      "text/plain": [
       "HBox(children=(FloatProgress(value=0.0, max=6490.0), HTML(value='')))"
      ]
     },
     "metadata": {},
     "output_type": "display_data"
    },
    {
     "name": "stdout",
     "output_type": "stream",
     "text": [
      "\n",
      "Now dealing 27/41\n"
     ]
    },
    {
     "data": {
      "application/vnd.jupyter.widget-view+json": {
       "model_id": "1f0d6b0410bf4549acb6b0219306e634",
       "version_major": 2,
       "version_minor": 0
      },
      "text/plain": [
       "HBox(children=(FloatProgress(value=0.0, max=6613.0), HTML(value='')))"
      ]
     },
     "metadata": {},
     "output_type": "display_data"
    },
    {
     "name": "stdout",
     "output_type": "stream",
     "text": [
      "\n",
      "Now dealing 28/41\n"
     ]
    },
    {
     "data": {
      "application/vnd.jupyter.widget-view+json": {
       "model_id": "83915d189aaa46979c7da9039fa27d95",
       "version_major": 2,
       "version_minor": 0
      },
      "text/plain": [
       "HBox(children=(FloatProgress(value=0.0, max=14348.0), HTML(value='')))"
      ]
     },
     "metadata": {},
     "output_type": "display_data"
    },
    {
     "name": "stdout",
     "output_type": "stream",
     "text": [
      "\n",
      "Now dealing 29/41\n"
     ]
    },
    {
     "data": {
      "application/vnd.jupyter.widget-view+json": {
       "model_id": "e52323628f504f86a88765d9e2817bf1",
       "version_major": 2,
       "version_minor": 0
      },
      "text/plain": [
       "HBox(children=(FloatProgress(value=0.0, max=13511.0), HTML(value='')))"
      ]
     },
     "metadata": {},
     "output_type": "display_data"
    },
    {
     "name": "stdout",
     "output_type": "stream",
     "text": [
      "\n",
      "Now dealing 30/41\n"
     ]
    },
    {
     "data": {
      "application/vnd.jupyter.widget-view+json": {
       "model_id": "05bd944e715e413aa8e149eb3570631d",
       "version_major": 2,
       "version_minor": 0
      },
      "text/plain": [
       "HBox(children=(FloatProgress(value=0.0, max=13077.0), HTML(value='')))"
      ]
     },
     "metadata": {},
     "output_type": "display_data"
    },
    {
     "name": "stdout",
     "output_type": "stream",
     "text": [
      "\n",
      "Now dealing 31/41\n"
     ]
    },
    {
     "data": {
      "application/vnd.jupyter.widget-view+json": {
       "model_id": "02eb91e39e11413890a2f2c7f960128d",
       "version_major": 2,
       "version_minor": 0
      },
      "text/plain": [
       "HBox(children=(FloatProgress(value=0.0, max=2548.0), HTML(value='')))"
      ]
     },
     "metadata": {},
     "output_type": "display_data"
    },
    {
     "name": "stdout",
     "output_type": "stream",
     "text": [
      "\n",
      "Now dealing 32/41\n"
     ]
    },
    {
     "data": {
      "application/vnd.jupyter.widget-view+json": {
       "model_id": "d01b1001ae55429d96f705814ba66e10",
       "version_major": 2,
       "version_minor": 0
      },
      "text/plain": [
       "HBox(children=(FloatProgress(value=0.0, max=9992.0), HTML(value='')))"
      ]
     },
     "metadata": {},
     "output_type": "display_data"
    },
    {
     "name": "stdout",
     "output_type": "stream",
     "text": [
      "\n",
      "Now dealing 33/41\n"
     ]
    },
    {
     "data": {
      "application/vnd.jupyter.widget-view+json": {
       "model_id": "e7e46354ea3c420bb2297bdd592b157d",
       "version_major": 2,
       "version_minor": 0
      },
      "text/plain": [
       "HBox(children=(FloatProgress(value=0.0, max=10829.0), HTML(value='')))"
      ]
     },
     "metadata": {},
     "output_type": "display_data"
    },
    {
     "name": "stdout",
     "output_type": "stream",
     "text": [
      "\n",
      "Now dealing 34/41\n"
     ]
    },
    {
     "data": {
      "application/vnd.jupyter.widget-view+json": {
       "model_id": "178cb4c42c3842ca93b2f434ba65cb2f",
       "version_major": 2,
       "version_minor": 0
      },
      "text/plain": [
       "HBox(children=(FloatProgress(value=0.0, max=8563.0), HTML(value='')))"
      ]
     },
     "metadata": {},
     "output_type": "display_data"
    },
    {
     "name": "stdout",
     "output_type": "stream",
     "text": [
      "\n",
      "Now dealing 35/41\n"
     ]
    },
    {
     "data": {
      "application/vnd.jupyter.widget-view+json": {
       "model_id": "618b320d01c14ddeb104643fb9f97212",
       "version_major": 2,
       "version_minor": 0
      },
      "text/plain": [
       "HBox(children=(FloatProgress(value=0.0, max=1144.0), HTML(value='')))"
      ]
     },
     "metadata": {},
     "output_type": "display_data"
    },
    {
     "name": "stdout",
     "output_type": "stream",
     "text": [
      "\n",
      "Now dealing 36/41\n"
     ]
    },
    {
     "data": {
      "application/vnd.jupyter.widget-view+json": {
       "model_id": "c77fb639a5d84402a0d7c68dd41718c0",
       "version_major": 2,
       "version_minor": 0
      },
      "text/plain": [
       "HBox(children=(FloatProgress(value=0.0, max=9215.0), HTML(value='')))"
      ]
     },
     "metadata": {},
     "output_type": "display_data"
    },
    {
     "name": "stdout",
     "output_type": "stream",
     "text": [
      "\n",
      "Now dealing 37/41\n"
     ]
    },
    {
     "data": {
      "application/vnd.jupyter.widget-view+json": {
       "model_id": "7d383ba970f546338e3eed1501c2359e",
       "version_major": 2,
       "version_minor": 0
      },
      "text/plain": [
       "HBox(children=(FloatProgress(value=0.0, max=8806.0), HTML(value='')))"
      ]
     },
     "metadata": {},
     "output_type": "display_data"
    },
    {
     "name": "stdout",
     "output_type": "stream",
     "text": [
      "\n",
      "Now dealing 38/41\n"
     ]
    },
    {
     "data": {
      "application/vnd.jupyter.widget-view+json": {
       "model_id": "7d2f0b607228493087e38436cc5f3fe5",
       "version_major": 2,
       "version_minor": 0
      },
      "text/plain": [
       "HBox(children=(FloatProgress(value=0.0, max=3539.0), HTML(value='')))"
      ]
     },
     "metadata": {},
     "output_type": "display_data"
    },
    {
     "name": "stdout",
     "output_type": "stream",
     "text": [
      "\n",
      "Now dealing 39/41\n"
     ]
    },
    {
     "data": {
      "application/vnd.jupyter.widget-view+json": {
       "model_id": "42cb2bad869f400ca7075eae9c9848a9",
       "version_major": 2,
       "version_minor": 0
      },
      "text/plain": [
       "HBox(children=(FloatProgress(value=0.0, max=3748.0), HTML(value='')))"
      ]
     },
     "metadata": {},
     "output_type": "display_data"
    },
    {
     "name": "stdout",
     "output_type": "stream",
     "text": [
      "\n",
      "Now dealing 40/41\n"
     ]
    },
    {
     "data": {
      "application/vnd.jupyter.widget-view+json": {
       "model_id": "ce640155852f4b91b19592ce431089ad",
       "version_major": 2,
       "version_minor": 0
      },
      "text/plain": [
       "HBox(children=(FloatProgress(value=0.0, max=2373.0), HTML(value='')))"
      ]
     },
     "metadata": {},
     "output_type": "display_data"
    },
    {
     "name": "stdout",
     "output_type": "stream",
     "text": [
      "\n"
     ]
    }
   ],
   "source": [
    "total_X = {}\n",
    "first_time = 1\n",
    "count = 0\n",
    "for i in tt:\n",
    "    count += 1\n",
    "    print('Now dealing {}/41'.format(count))\n",
    "    queue_data = i[1].sort_values(by='DOTTING_TIME', ascending=True)\n",
    "    queue_data = queue_data.reset_index(drop = True)\n",
    "    time_data = [x for x in queue_data['DOTTING_TIME']]\n",
    "    \n",
    "    for ii in tqdm(range(0,len(queue_data)-5)):\n",
    "        if not valid_continuous_five(time_data, time_data[ii]):\n",
    "            continue\n",
    "        else:\n",
    "            X = {}\n",
    "            for temp_loop in range(5):\n",
    "                continous_data = queue_data.loc[[ii + temp_loop]]\n",
    "                X['CU_{}'.format(temp_loop)] = continous_data['CU'].values[0]\n",
    "                X['QUEUE_TYPE_{}'.format(temp_loop)] = continous_data['QUEUE_TYPE'].values[0]\n",
    "                X['CPU_USAGE_{}'.format(temp_loop)] = continous_data['CPU_USAGE'].values[0]\n",
    "                X['MEM_USAGE_{}'.format(temp_loop)] = continous_data['MEM_USAGE'].values[0]\n",
    "                X['LAUNCHING_JOB_NUMS_{}'.format(temp_loop)] = continous_data['LAUNCHING_JOB_NUMS'].values[0]\n",
    "                X['RUNNING_JOB_NUMS_{}'.format(temp_loop)] = continous_data['RUNNING_JOB_NUMS'].values[0]\n",
    "                X['SUCCEED_JOB_NUMS_{}'.format(temp_loop)] = continous_data['SUCCEED_JOB_NUMS'].values[0]\n",
    "                X['CANCELLED_JOB_NUMS_{}'.format(temp_loop)] = continous_data['CANCELLED_JOB_NUMS'].values[0]\n",
    "                X['RESOURCE_TYPE_{}'.format(temp_loop)] = continous_data['RESOURCE_TYPE'].values[0]\n",
    "                X['DISK_USAGE_{}'.format(temp_loop)] = continous_data['DISK_USAGE'].values[0]\n",
    "            #预测目标值从1开始\n",
    "            for iii in range(1,6):\n",
    "                time_stamp = time_data[ii] + 300000 * (4+iii)\n",
    "                if not valid_single_one(time_data, time_stamp):\n",
    "                    X['TARGET_CPU_USAGE_{}'.format(iii)] = np.nan\n",
    "                    X['TARGET_LAUNCHING_JOB_NUMS_{}'.format(iii)] = np.nan\n",
    "                else:\n",
    "                    X['TARGET_CPU_USAGE_{}'.format(iii)] = queue_data.loc[queue_data['DOTTING_TIME'] == time_stamp]['CPU_USAGE'].values[0]\n",
    "                    X['TARGET_LAUNCHING_JOB_NUMS_{}'.format(iii)] = queue_data.loc[queue_data['DOTTING_TIME'] == time_stamp]['LAUNCHING_JOB_NUMS'].values[0]\n",
    "            XX = pd.DataFrame(X,index = [0])\n",
    "            \n",
    "            if first_time:\n",
    "                first_time = 0\n",
    "                total_X = XX\n",
    "            else:\n",
    "                total_X = pd.concat([total_X,XX],axis = 0)\n",
    "        \n",
    "        \n",
    "        \n",
    "    "
   ]
  },
  {
   "cell_type": "code",
   "execution_count": 39,
   "metadata": {},
   "outputs": [],
   "source": [
    "total_X.to_csv('C:/ml_data/df/server/eda_engineering_1.csv', index = False)"
   ]
  },
  {
   "cell_type": "code",
   "execution_count": 16,
   "metadata": {},
   "outputs": [],
   "source": [
    "#下面的代码用以生成测试集数据\n",
    "#这里面又有一个坑啊，测试集的特征'QUEUE_ID'没有意义，应该使用'ID'"
   ]
  },
  {
   "cell_type": "code",
   "execution_count": 17,
   "metadata": {
    "scrolled": true
   },
   "outputs": [
    {
     "data": {
      "text/html": [
       "<div>\n",
       "<style scoped>\n",
       "    .dataframe tbody tr th:only-of-type {\n",
       "        vertical-align: middle;\n",
       "    }\n",
       "\n",
       "    .dataframe tbody tr th {\n",
       "        vertical-align: top;\n",
       "    }\n",
       "\n",
       "    .dataframe thead th {\n",
       "        text-align: right;\n",
       "    }\n",
       "</style>\n",
       "<table border=\"1\" class=\"dataframe\">\n",
       "  <thead>\n",
       "    <tr style=\"text-align: right;\">\n",
       "      <th></th>\n",
       "      <th>ID</th>\n",
       "      <th>QUEUE_ID</th>\n",
       "      <th>CU</th>\n",
       "      <th>STATUS</th>\n",
       "      <th>QUEUE_TYPE</th>\n",
       "      <th>PLATFORM</th>\n",
       "      <th>CPU_USAGE</th>\n",
       "      <th>MEM_USAGE</th>\n",
       "      <th>LAUNCHING_JOB_NUMS</th>\n",
       "      <th>RUNNING_JOB_NUMS</th>\n",
       "      <th>SUCCEED_JOB_NUMS</th>\n",
       "      <th>CANCELLED_JOB_NUMS</th>\n",
       "      <th>FAILED_JOB_NUMS</th>\n",
       "      <th>DOTTING_TIME</th>\n",
       "      <th>RESOURCE_TYPE</th>\n",
       "      <th>DISK_USAGE</th>\n",
       "    </tr>\n",
       "  </thead>\n",
       "  <tbody>\n",
       "    <tr>\n",
       "      <th>5325</th>\n",
       "      <td>1066</td>\n",
       "      <td>2</td>\n",
       "      <td>16</td>\n",
       "      <td>available</td>\n",
       "      <td>sql</td>\n",
       "      <td>x86_64</td>\n",
       "      <td>3</td>\n",
       "      <td>48</td>\n",
       "      <td>0</td>\n",
       "      <td>0</td>\n",
       "      <td>0</td>\n",
       "      <td>0</td>\n",
       "      <td>0</td>\n",
       "      <td>1596587880000</td>\n",
       "      <td>vm</td>\n",
       "      <td>26</td>\n",
       "    </tr>\n",
       "    <tr>\n",
       "      <th>5326</th>\n",
       "      <td>1066</td>\n",
       "      <td>2</td>\n",
       "      <td>16</td>\n",
       "      <td>available</td>\n",
       "      <td>sql</td>\n",
       "      <td>x86_64</td>\n",
       "      <td>2</td>\n",
       "      <td>48</td>\n",
       "      <td>0</td>\n",
       "      <td>0</td>\n",
       "      <td>0</td>\n",
       "      <td>0</td>\n",
       "      <td>0</td>\n",
       "      <td>1596588180000</td>\n",
       "      <td>vm</td>\n",
       "      <td>26</td>\n",
       "    </tr>\n",
       "    <tr>\n",
       "      <th>5327</th>\n",
       "      <td>1066</td>\n",
       "      <td>2</td>\n",
       "      <td>16</td>\n",
       "      <td>available</td>\n",
       "      <td>sql</td>\n",
       "      <td>x86_64</td>\n",
       "      <td>3</td>\n",
       "      <td>48</td>\n",
       "      <td>0</td>\n",
       "      <td>0</td>\n",
       "      <td>0</td>\n",
       "      <td>0</td>\n",
       "      <td>0</td>\n",
       "      <td>1596588480000</td>\n",
       "      <td>vm</td>\n",
       "      <td>26</td>\n",
       "    </tr>\n",
       "    <tr>\n",
       "      <th>5328</th>\n",
       "      <td>1066</td>\n",
       "      <td>2</td>\n",
       "      <td>16</td>\n",
       "      <td>available</td>\n",
       "      <td>sql</td>\n",
       "      <td>x86_64</td>\n",
       "      <td>3</td>\n",
       "      <td>48</td>\n",
       "      <td>0</td>\n",
       "      <td>0</td>\n",
       "      <td>0</td>\n",
       "      <td>0</td>\n",
       "      <td>0</td>\n",
       "      <td>1596588780000</td>\n",
       "      <td>vm</td>\n",
       "      <td>26</td>\n",
       "    </tr>\n",
       "    <tr>\n",
       "      <th>5329</th>\n",
       "      <td>1066</td>\n",
       "      <td>2</td>\n",
       "      <td>16</td>\n",
       "      <td>available</td>\n",
       "      <td>sql</td>\n",
       "      <td>x86_64</td>\n",
       "      <td>6</td>\n",
       "      <td>48</td>\n",
       "      <td>0</td>\n",
       "      <td>0</td>\n",
       "      <td>0</td>\n",
       "      <td>0</td>\n",
       "      <td>0</td>\n",
       "      <td>1596589080000</td>\n",
       "      <td>vm</td>\n",
       "      <td>26</td>\n",
       "    </tr>\n",
       "    <tr>\n",
       "      <th>12825</th>\n",
       "      <td>2566</td>\n",
       "      <td>2</td>\n",
       "      <td>16</td>\n",
       "      <td>available</td>\n",
       "      <td>sql</td>\n",
       "      <td>x86_64</td>\n",
       "      <td>3</td>\n",
       "      <td>50</td>\n",
       "      <td>0</td>\n",
       "      <td>0</td>\n",
       "      <td>0</td>\n",
       "      <td>0</td>\n",
       "      <td>0</td>\n",
       "      <td>1596654240000</td>\n",
       "      <td>vm</td>\n",
       "      <td>26</td>\n",
       "    </tr>\n",
       "    <tr>\n",
       "      <th>12826</th>\n",
       "      <td>2566</td>\n",
       "      <td>2</td>\n",
       "      <td>16</td>\n",
       "      <td>available</td>\n",
       "      <td>sql</td>\n",
       "      <td>x86_64</td>\n",
       "      <td>7</td>\n",
       "      <td>50</td>\n",
       "      <td>0</td>\n",
       "      <td>0</td>\n",
       "      <td>0</td>\n",
       "      <td>0</td>\n",
       "      <td>0</td>\n",
       "      <td>1596654540000</td>\n",
       "      <td>vm</td>\n",
       "      <td>26</td>\n",
       "    </tr>\n",
       "    <tr>\n",
       "      <th>12827</th>\n",
       "      <td>2566</td>\n",
       "      <td>2</td>\n",
       "      <td>16</td>\n",
       "      <td>available</td>\n",
       "      <td>sql</td>\n",
       "      <td>x86_64</td>\n",
       "      <td>3</td>\n",
       "      <td>50</td>\n",
       "      <td>0</td>\n",
       "      <td>0</td>\n",
       "      <td>2</td>\n",
       "      <td>0</td>\n",
       "      <td>0</td>\n",
       "      <td>1596654840000</td>\n",
       "      <td>vm</td>\n",
       "      <td>26</td>\n",
       "    </tr>\n",
       "    <tr>\n",
       "      <th>12828</th>\n",
       "      <td>2566</td>\n",
       "      <td>2</td>\n",
       "      <td>16</td>\n",
       "      <td>available</td>\n",
       "      <td>sql</td>\n",
       "      <td>x86_64</td>\n",
       "      <td>5</td>\n",
       "      <td>50</td>\n",
       "      <td>0</td>\n",
       "      <td>0</td>\n",
       "      <td>0</td>\n",
       "      <td>0</td>\n",
       "      <td>0</td>\n",
       "      <td>1596655140000</td>\n",
       "      <td>vm</td>\n",
       "      <td>26</td>\n",
       "    </tr>\n",
       "    <tr>\n",
       "      <th>12829</th>\n",
       "      <td>2566</td>\n",
       "      <td>2</td>\n",
       "      <td>16</td>\n",
       "      <td>available</td>\n",
       "      <td>sql</td>\n",
       "      <td>x86_64</td>\n",
       "      <td>2</td>\n",
       "      <td>50</td>\n",
       "      <td>0</td>\n",
       "      <td>0</td>\n",
       "      <td>0</td>\n",
       "      <td>0</td>\n",
       "      <td>0</td>\n",
       "      <td>1596655440000</td>\n",
       "      <td>vm</td>\n",
       "      <td>26</td>\n",
       "    </tr>\n",
       "  </tbody>\n",
       "</table>\n",
       "</div>"
      ],
      "text/plain": [
       "         ID  QUEUE_ID  CU     STATUS QUEUE_TYPE PLATFORM  CPU_USAGE  \\\n",
       "5325   1066         2  16  available        sql   x86_64          3   \n",
       "5326   1066         2  16  available        sql   x86_64          2   \n",
       "5327   1066         2  16  available        sql   x86_64          3   \n",
       "5328   1066         2  16  available        sql   x86_64          3   \n",
       "5329   1066         2  16  available        sql   x86_64          6   \n",
       "12825  2566         2  16  available        sql   x86_64          3   \n",
       "12826  2566         2  16  available        sql   x86_64          7   \n",
       "12827  2566         2  16  available        sql   x86_64          3   \n",
       "12828  2566         2  16  available        sql   x86_64          5   \n",
       "12829  2566         2  16  available        sql   x86_64          2   \n",
       "\n",
       "       MEM_USAGE  LAUNCHING_JOB_NUMS  RUNNING_JOB_NUMS  SUCCEED_JOB_NUMS  \\\n",
       "5325          48                   0                 0                 0   \n",
       "5326          48                   0                 0                 0   \n",
       "5327          48                   0                 0                 0   \n",
       "5328          48                   0                 0                 0   \n",
       "5329          48                   0                 0                 0   \n",
       "12825         50                   0                 0                 0   \n",
       "12826         50                   0                 0                 0   \n",
       "12827         50                   0                 0                 2   \n",
       "12828         50                   0                 0                 0   \n",
       "12829         50                   0                 0                 0   \n",
       "\n",
       "       CANCELLED_JOB_NUMS  FAILED_JOB_NUMS   DOTTING_TIME RESOURCE_TYPE  \\\n",
       "5325                    0                0  1596587880000            vm   \n",
       "5326                    0                0  1596588180000            vm   \n",
       "5327                    0                0  1596588480000            vm   \n",
       "5328                    0                0  1596588780000            vm   \n",
       "5329                    0                0  1596589080000            vm   \n",
       "12825                   0                0  1596654240000            vm   \n",
       "12826                   0                0  1596654540000            vm   \n",
       "12827                   0                0  1596654840000            vm   \n",
       "12828                   0                0  1596655140000            vm   \n",
       "12829                   0                0  1596655440000            vm   \n",
       "\n",
       "       DISK_USAGE  \n",
       "5325           26  \n",
       "5326           26  \n",
       "5327           26  \n",
       "5328           26  \n",
       "5329           26  \n",
       "12825          26  \n",
       "12826          26  \n",
       "12827          26  \n",
       "12828          26  \n",
       "12829          26  "
      ]
     },
     "execution_count": 17,
     "metadata": {},
     "output_type": "execute_result"
    }
   ],
   "source": [
    "test_data.head(10)"
   ]
  },
  {
   "cell_type": "code",
   "execution_count": 18,
   "metadata": {},
   "outputs": [],
   "source": [
    "tt = test_data.groupby('ID')"
   ]
  },
  {
   "cell_type": "code",
   "execution_count": 19,
   "metadata": {},
   "outputs": [
    {
     "data": {
      "application/vnd.jupyter.widget-view+json": {
       "model_id": "c808d24a55214f76a551c27fc730f868",
       "version_major": 2,
       "version_minor": 0
      },
      "text/plain": [
       "HBox(children=(FloatProgress(value=0.0, max=2996.0), HTML(value='')))"
      ]
     },
     "metadata": {},
     "output_type": "display_data"
    },
    {
     "name": "stdout",
     "output_type": "stream",
     "text": [
      "\n"
     ]
    }
   ],
   "source": [
    "test_total_X = {}\n",
    "first_time = 1\n",
    "for i in tqdm(tt):\n",
    "    queue_data = i[1].sort_values(by='DOTTING_TIME', ascending=True)\n",
    "    queue_data = queue_data.reset_index(drop = True)\n",
    "    X = {}\n",
    "    for temp_loop in range(5):\n",
    "        continous_data = queue_data.loc[[temp_loop]]\n",
    "        X['CU_{}'.format(temp_loop)] = continous_data['CU'].values[0]\n",
    "        X['QUEUE_TYPE_{}'.format(temp_loop)] = continous_data['QUEUE_TYPE'].values[0]\n",
    "        X['CPU_USAGE_{}'.format(temp_loop)] = continous_data['CPU_USAGE'].values[0]\n",
    "        X['MEM_USAGE_{}'.format(temp_loop)] = continous_data['MEM_USAGE'].values[0]\n",
    "        X['LAUNCHING_JOB_NUMS_{}'.format(temp_loop)] = continous_data['LAUNCHING_JOB_NUMS'].values[0]\n",
    "        X['RUNNING_JOB_NUMS_{}'.format(temp_loop)] = continous_data['RUNNING_JOB_NUMS'].values[0]\n",
    "        X['SUCCEED_JOB_NUMS_{}'.format(temp_loop)] = continous_data['SUCCEED_JOB_NUMS'].values[0]\n",
    "        X['CANCELLED_JOB_NUMS_{}'.format(temp_loop)] = continous_data['CANCELLED_JOB_NUMS'].values[0]\n",
    "        X['RESOURCE_TYPE_{}'.format(temp_loop)] = continous_data['RESOURCE_TYPE'].values[0]\n",
    "        X['DISK_USAGE_{}'.format(temp_loop)] = continous_data['DISK_USAGE'].values[0]\n",
    "    X = pd.DataFrame(X,index = [0])\n",
    "    if first_time:\n",
    "        first_time = 0\n",
    "        test_total_X = X\n",
    "    else:\n",
    "        test_total_X = pd.concat([test_total_X,X],axis = 0)\n",
    "        \n",
    "    "
   ]
  },
  {
   "cell_type": "code",
   "execution_count": 20,
   "metadata": {},
   "outputs": [],
   "source": [
    "test_total_X.to_csv('C:/ml_data/df/server/eda_engineering_1_test_data.csv', index = False)"
   ]
  },
  {
   "cell_type": "code",
   "execution_count": null,
   "metadata": {},
   "outputs": [],
   "source": []
  },
  {
   "cell_type": "code",
   "execution_count": null,
   "metadata": {},
   "outputs": [],
   "source": []
  }
 ],
 "metadata": {
  "kernelspec": {
   "display_name": "Python 3",
   "language": "python",
   "name": "python3"
  },
  "language_info": {
   "codemirror_mode": {
    "name": "ipython",
    "version": 3
   },
   "file_extension": ".py",
   "mimetype": "text/x-python",
   "name": "python",
   "nbconvert_exporter": "python",
   "pygments_lexer": "ipython3",
   "version": "3.7.0"
  }
 },
 "nbformat": 4,
 "nbformat_minor": 2
}
