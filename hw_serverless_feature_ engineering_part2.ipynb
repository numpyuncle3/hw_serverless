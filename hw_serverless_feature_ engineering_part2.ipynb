{
 "cells": [
  {
   "cell_type": "code",
   "execution_count": 1,
   "metadata": {},
   "outputs": [],
   "source": [
    "#通用\n",
    "from tqdm.notebook import tqdm\n",
    "import time\n",
    "#数据处理\n",
    "import pandas as pd\n",
    "import numpy as np\n",
    "import matplotlib.pyplot as plt\n",
    "%matplotlib inline\n",
    "import seaborn as sns\n"
   ]
  },
  {
   "cell_type": "code",
   "execution_count": 2,
   "metadata": {},
   "outputs": [],
   "source": [
    "#事实证明还是官方的快\n",
    "class mergesort(): \n",
    "    def __init__(self):\n",
    "        return\n",
    "    def mergesort(self,nums):\n",
    "        \n",
    "        if len(nums)<=1:\n",
    "            return nums\n",
    "        left = self.mergesort(nums[:int(len(nums)/2)])\n",
    "        right = self.mergesort(nums[int(len(nums)/2):])\n",
    "        result = self.merge(left,right)\n",
    "        return result\n",
    "\n",
    "    def merge(self,left,right):\n",
    "        result = []\n",
    "        p1, p2 = 0, 0\n",
    "        while p1 < len(left) and p2 < len(right):\n",
    "            if left[p1] < right[p2]:\n",
    "                result.append(left[p1])\n",
    "                p1 += 1\n",
    "            else:\n",
    "                result.append(right[p2])\n",
    "                p2 += 1\n",
    "        result += left[p1:len(left)]\n",
    "        result += right[p2:len(right)]\n",
    "        return result\n"
   ]
  },
  {
   "cell_type": "code",
   "execution_count": 3,
   "metadata": {},
   "outputs": [],
   "source": [
    "train_data = pd.read_csv('C:/ml_data/df/server/eda_engineering_1.csv')\n",
    "test_data = pd.read_csv('C:/ml_data/df/server/eda_engineering_1_test_data.csv')\n",
    "sub_data = pd.read_csv('C:/ml_data/df/server/submit_example.csv')"
   ]
  },
  {
   "cell_type": "code",
   "execution_count": 4,
   "metadata": {},
   "outputs": [],
   "source": [
    "#特征CU_i重复了，删除\n",
    "for i in range(1,5):\n",
    "    fea = 'CU_'+str(i)\n",
    "    del train_data[fea]\n",
    "    del test_data[fea]"
   ]
  },
  {
   "cell_type": "code",
   "execution_count": 5,
   "metadata": {},
   "outputs": [],
   "source": [
    "#特征QUEUE_TYPE_i重复了，删除\n",
    "for i in range(1,5):\n",
    "    fea = 'QUEUE_TYPE_'+str(i)\n",
    "    del train_data[fea]\n",
    "    del test_data[fea]"
   ]
  },
  {
   "cell_type": "code",
   "execution_count": 6,
   "metadata": {},
   "outputs": [],
   "source": [
    "#特征RESOURCE_TYPE_i重复了，删除\n",
    "for i in range(1,5):\n",
    "    fea = 'RESOURCE_TYPE_'+str(i)\n",
    "    del train_data[fea]\n",
    "    del test_data[fea]"
   ]
  },
  {
   "cell_type": "code",
   "execution_count": 7,
   "metadata": {
    "scrolled": true
   },
   "outputs": [
    {
     "data": {
      "text/plain": [
       "CU_0                            0.000000\n",
       "QUEUE_TYPE_0                    0.000000\n",
       "CPU_USAGE_0                     0.000000\n",
       "MEM_USAGE_0                     0.000000\n",
       "LAUNCHING_JOB_NUMS_0            0.000000\n",
       "RUNNING_JOB_NUMS_0              0.000000\n",
       "SUCCEED_JOB_NUMS_0              0.000000\n",
       "CANCELLED_JOB_NUMS_0            0.000000\n",
       "RESOURCE_TYPE_0                 0.000000\n",
       "DISK_USAGE_0                    0.000000\n",
       "CPU_USAGE_1                     0.000000\n",
       "MEM_USAGE_1                     0.000000\n",
       "LAUNCHING_JOB_NUMS_1            0.000000\n",
       "RUNNING_JOB_NUMS_1              0.000000\n",
       "SUCCEED_JOB_NUMS_1              0.000000\n",
       "CANCELLED_JOB_NUMS_1            0.000000\n",
       "DISK_USAGE_1                    0.000000\n",
       "CPU_USAGE_2                     0.000000\n",
       "MEM_USAGE_2                     0.000000\n",
       "LAUNCHING_JOB_NUMS_2            0.000000\n",
       "RUNNING_JOB_NUMS_2              0.000000\n",
       "SUCCEED_JOB_NUMS_2              0.000000\n",
       "CANCELLED_JOB_NUMS_2            0.000000\n",
       "DISK_USAGE_2                    0.000000\n",
       "CPU_USAGE_3                     0.000000\n",
       "MEM_USAGE_3                     0.000000\n",
       "LAUNCHING_JOB_NUMS_3            0.000000\n",
       "RUNNING_JOB_NUMS_3              0.000000\n",
       "SUCCEED_JOB_NUMS_3              0.000000\n",
       "CANCELLED_JOB_NUMS_3            0.000000\n",
       "DISK_USAGE_3                    0.000000\n",
       "CPU_USAGE_4                     0.000000\n",
       "MEM_USAGE_4                     0.000000\n",
       "LAUNCHING_JOB_NUMS_4            0.000000\n",
       "RUNNING_JOB_NUMS_4              0.000000\n",
       "SUCCEED_JOB_NUMS_4              0.000000\n",
       "CANCELLED_JOB_NUMS_4            0.000000\n",
       "DISK_USAGE_4                    0.000000\n",
       "TARGET_CPU_USAGE_1             18.210267\n",
       "TARGET_LAUNCHING_JOB_NUMS_1    18.210267\n",
       "TARGET_CPU_USAGE_2             36.382691\n",
       "TARGET_LAUNCHING_JOB_NUMS_2    36.382691\n",
       "TARGET_CPU_USAGE_3             54.511448\n",
       "TARGET_LAUNCHING_JOB_NUMS_3    54.511448\n",
       "TARGET_CPU_USAGE_4             71.932812\n",
       "TARGET_LAUNCHING_JOB_NUMS_4    71.932812\n",
       "TARGET_CPU_USAGE_5             85.601793\n",
       "TARGET_LAUNCHING_JOB_NUMS_5    85.601793\n",
       "dtype: float64"
      ]
     },
     "execution_count": 7,
     "metadata": {},
     "output_type": "execute_result"
    }
   ],
   "source": [
    "#查看target缺失情况\n",
    "train_data.isnull().sum()/len(train_data)*100"
   ]
  },
  {
   "cell_type": "code",
   "execution_count": 8,
   "metadata": {},
   "outputs": [
    {
     "data": {
      "text/plain": [
       "\"\\n#验证特征重复的代码\\nx_0 = [x for x in train_data['RESOURCE_TYPE_0']]\\nx_1 = [x for x in train_data['RESOURCE_TYPE_1']]\\nx_2 = [x for x in train_data['RESOURCE_TYPE_2']]\\nx_3 = [x for x in train_data['RESOURCE_TYPE_3']]\\nx_4 = [x for x in train_data['RESOURCE_TYPE_4']]\\nfor i in range(len(x_0)):\\n    if not x_0[i] == x_1[i] == x_2[i] == x_3[i] == x_4[i]:\\n        print(i)\\n\""
      ]
     },
     "execution_count": 8,
     "metadata": {},
     "output_type": "execute_result"
    }
   ],
   "source": [
    "'''\n",
    "#验证特征重复的代码\n",
    "x_0 = [x for x in train_data['RESOURCE_TYPE_0']]\n",
    "x_1 = [x for x in train_data['RESOURCE_TYPE_1']]\n",
    "x_2 = [x for x in train_data['RESOURCE_TYPE_2']]\n",
    "x_3 = [x for x in train_data['RESOURCE_TYPE_3']]\n",
    "x_4 = [x for x in train_data['RESOURCE_TYPE_4']]\n",
    "for i in range(len(x_0)):\n",
    "    if not x_0[i] == x_1[i] == x_2[i] == x_3[i] == x_4[i]:\n",
    "        print(i)\n",
    "'''"
   ]
  },
  {
   "cell_type": "code",
   "execution_count": 19,
   "metadata": {},
   "outputs": [],
   "source": [
    "#构建基本统计特征\n",
    "basic_features = ['CPU_USAGE_','MEM_USAGE_','LAUNCHING_JOB_NUMS_','RUNNING_JOB_NUMS_','SUCCEED_JOB_NUMS_','CANCELLED_JOB_NUMS_','DISK_USAGE_']\n",
    "#构造数据值总合SUM\n",
    "for item in basic_features:\n",
    "    feature_sum = item + 'SUM'\n",
    "    train_data[feature_sum] = 0\n",
    "    test_data[feature_sum] = 0\n",
    "    for i in range(5):\n",
    "        train_data[feature_sum] = train_data[feature_sum] + train_data[item+str(i)]\n",
    "        test_data[feature_sum] = test_data[feature_sum] + test_data[item+str(i)]\n",
    "\n",
    "    "
   ]
  },
  {
   "cell_type": "code",
   "execution_count": 20,
   "metadata": {},
   "outputs": [],
   "source": [
    "#均值和总合SUM重复了，不做"
   ]
  },
  {
   "cell_type": "code",
   "execution_count": 21,
   "metadata": {},
   "outputs": [],
   "source": [
    "#因为只有5个数据，个人觉得方差等统计量意义不大，所以暂时也不做了"
   ]
  },
  {
   "cell_type": "markdown",
   "metadata": {},
   "source": [
    "#逐个分析特征，尝试创建个性化特征\n",
    "#训练数据只有五个时间点，并且数据都是整形，时间序列特征不是很明显，\n",
    "x_0 = [x for x in train_data['CPU_USAGE_0']]\n",
    "x_1 = [x for x in train_data['CPU_USAGE_1']]\n",
    "x_2 = [x for x in train_data['CPU_USAGE_2']]\n",
    "x_3 = [x for x in train_data['CPU_USAGE_3']]\n",
    "x_4 = [x for x in train_data['CPU_USAGE_4']]\n",
    "\n",
    "t_1 = [x for x in train_data['TARGET_CPU_USAGE_1']]\n",
    "t_2 = [x for x in train_data['TARGET_CPU_USAGE_2']]\n",
    "t_3 = [x for x in train_data['TARGET_CPU_USAGE_3']]\n",
    "t_4 = [x for x in train_data['TARGET_CPU_USAGE_4']]\n",
    "t_5 = [x for x in train_data['TARGET_CPU_USAGE_5']]\n"
   ]
  },
  {
   "cell_type": "code",
   "execution_count": 27,
   "metadata": {},
   "outputs": [],
   "source": [
    "#暂时没有想到更有效的个性化特征， 后期慢慢想吧"
   ]
  },
  {
   "cell_type": "code",
   "execution_count": 35,
   "metadata": {},
   "outputs": [],
   "source": [
    "q_1 = train_data['TARGET_LAUNCHING_JOB_NUMS_1']\n",
    "q_2 = train_data['TARGET_LAUNCHING_JOB_NUMS_2']\n",
    "q_3 = train_data['TARGET_LAUNCHING_JOB_NUMS_3']\n",
    "q_4 = train_data['TARGET_LAUNCHING_JOB_NUMS_4']\n",
    "q_5 = train_data['TARGET_LAUNCHING_JOB_NUMS_5']"
   ]
  },
  {
   "cell_type": "code",
   "execution_count": 74,
   "metadata": {},
   "outputs": [
    {
     "data": {
      "application/vnd.jupyter.widget-view+json": {
       "model_id": "ad6b29d736094f02909e74876675d4d5",
       "version_major": 2,
       "version_minor": 0
      },
      "text/plain": [
       "HBox(children=(FloatProgress(value=0.0, max=5.0), HTML(value='')))"
      ]
     },
     "metadata": {},
     "output_type": "display_data"
    },
    {
     "name": "stdout",
     "output_type": "stream",
     "text": [
      "\n"
     ]
    }
   ],
   "source": [
    "total_q = [q_1, q_2, q_3, q_4, q_5]\n",
    "train_data_all = []\n",
    "for single_q in tqdm(total_q):\n",
    "    index_all = [x for x in range(len(single_q))]\n",
    "    for i in range(len(single_q)):\n",
    "        if  not single_q[i] >-1: \n",
    "            index_all.remove(i)\n",
    "    train_data_ = train_data.loc[index_all]\n",
    "    train_data_all.append(train_data_)\n"
   ]
  },
  {
   "cell_type": "code",
   "execution_count": 81,
   "metadata": {},
   "outputs": [],
   "source": [
    "for i in range(1,6):\n",
    "    data = train_data_all[i-1]\n",
    "    path = 'C:/ml_data/df/server/eda_engineering_2_point_' + str(i) + '.csv'\n",
    "    data.to_csv(path,index = False)"
   ]
  },
  {
   "cell_type": "code",
   "execution_count": 82,
   "metadata": {},
   "outputs": [],
   "source": [
    "test_data.to_csv('C:/ml_data/df/server/eda_engineering_2_test_data.csv',index = False)"
   ]
  },
  {
   "cell_type": "code",
   "execution_count": null,
   "metadata": {},
   "outputs": [],
   "source": []
  }
 ],
 "metadata": {
  "kernelspec": {
   "display_name": "Python 3",
   "language": "python",
   "name": "python3"
  },
  "language_info": {
   "codemirror_mode": {
    "name": "ipython",
    "version": 3
   },
   "file_extension": ".py",
   "mimetype": "text/x-python",
   "name": "python",
   "nbconvert_exporter": "python",
   "pygments_lexer": "ipython3",
   "version": "3.7.0"
  }
 },
 "nbformat": 4,
 "nbformat_minor": 2
}
